{
 "cells": [
  {
   "cell_type": "markdown",
   "metadata": {},
   "source": [
    "# The Oxygen Octave – Harmonic Ratio Folding\n",
    "\n",
    "This notebook demonstrates how to compute octave-folded ratios from NIST/HITRAN vibrational frequencies and test harmonic coherence (v1.6.1)."
   ]
  },
  {
   "cell_type": "code",
   "metadata": {},
   "source": [
    "import numpy as np, pandas as pd\n",
    "\n",
    "# Example dataset\n",
    "freqs = {'O2': 1580.19, 'O3': 2084.0, 'H2O': 3657.0, 'O2_minus': 2200.0}\n",
    "ratios = {k: v/freqs['O2'] for k,v in freqs.items() if k != 'O2']\n",
    "folded = {k: r/2 if r > 2 else r for k,r in ratios.items()}\n",
    "\n",
    "df = pd.DataFrame.from_dict(folded, orient='index', columns=['R_folded'])\n",
    "df"
   ]
  }
 ],
 "metadata": {"kernelspec": {"display_name": "Python 3", "language": "python", "name": "python3"}},
 "nbformat": 4,
 "nbformat_minor": 2
}
